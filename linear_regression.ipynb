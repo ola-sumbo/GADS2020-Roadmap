{
  "nbformat": 4,
  "nbformat_minor": 0,
  "metadata": {
    "colab": {
      "name": "linear_regression.ipynb",
      "provenance": [],
      "collapsed_sections": [],
      "include_colab_link": true
    },
    "kernelspec": {
      "display_name": "Python 3",
      "language": "python",
      "name": "python3"
    },
    "language_info": {
      "codemirror_mode": {
        "name": "ipython",
        "version": 3
      },
      "file_extension": ".py",
      "mimetype": "text/x-python",
      "name": "python",
      "nbconvert_exporter": "python",
      "pygments_lexer": "ipython3",
      "version": "3.7.3"
    }
  },
  "cells": [
    {
      "cell_type": "markdown",
      "metadata": {
        "id": "view-in-github",
        "colab_type": "text"
      },
      "source": [
        "<a href=\"https://colab.research.google.com/github/ola-sumbo/GADS2020-Roadmap/blob/master/linear_regression.ipynb\" target=\"_parent\"><img src=\"https://colab.research.google.com/assets/colab-badge.svg\" alt=\"Open In Colab\"/></a>"
      ]
    },
    {
      "cell_type": "markdown",
      "metadata": {
        "id": "wlPCAb2Ul6lz"
      },
      "source": [
        "<a href=\"https://colab.research.google.com/github/KutayAkalin/ML_Course_9-11-20/blob/main/Linear%20Regression/linear_regression.ipynb\">\n",
        "  <img src=\"https://colab.research.google.com/assets/colab-badge.svg\" alt=\"Open In Colab\"/>\n",
        "</a>"
      ]
    },
    {
      "cell_type": "markdown",
      "metadata": {
        "id": "xAFYL8FOC3EX"
      },
      "source": [
        "# What is Regression?"
      ]
    },
    {
      "cell_type": "markdown",
      "metadata": {
        "id": "ObZajM_LDfze"
      },
      "source": [
        "Regression analysis is one of the most important fields in statistics and machine learning. There are many regression methods available. Linear regression is one of them. **Used when output is numeric**"
      ]
    },
    {
      "cell_type": "markdown",
      "metadata": {
        "id": "tp0RCvw-D0jq"
      },
      "source": [
        "Regression searches for relationships among variables. For example, you can observe several employees of some company and try to understand how their salaries depend on the features, such as experience, level of education, role, city they work in, and so on."
      ]
    },
    {
      "cell_type": "markdown",
      "metadata": {
        "id": "t7TUcDz4HyB4"
      },
      "source": [
        "# Linear Regression"
      ]
    },
    {
      "cell_type": "markdown",
      "metadata": {
        "id": "pcJ2U0sUIAzn"
      },
      "source": [
        "Linear regression is probably one of the most important and widely used regression techniques. It’s among the simplest regression methods. One of its main advantages is the ease of interpreting results."
      ]
    },
    {
      "cell_type": "markdown",
      "metadata": {
        "id": "Fh3LdXkTI2Ns"
      },
      "source": [
        "When implementing linear regression of some dependent variable 𝑦 on the set of independent variables 𝐱 = (𝑥₁, …, 𝑥ᵣ), where 𝑟 is the number of predictors, you assume a linear relationship between 𝑦 and 𝐱: 𝑦 = 𝛽₀ + 𝛽₁𝑥₁ + ⋯ + 𝛽ᵣ𝑥ᵣ + 𝜀. This equation is the regression equation. 𝛽₀, 𝛽₁, …, 𝛽ᵣ are the regression coefficients, and 𝜀 is the random error."
      ]
    },
    {
      "cell_type": "markdown",
      "metadata": {
        "id": "gBea82xsJZuh"
      },
      "source": [
        "## Simple Linear Regression"
      ]
    },
    {
      "cell_type": "markdown",
      "metadata": {
        "id": "CDXdTosaJfFJ"
      },
      "source": [
        "Simple or single-variate linear regression is the simplest case of linear regression with a single independent variable, 𝐱 = x. "
      ]
    },
    {
      "cell_type": "markdown",
      "metadata": {
        "id": "HJMakg8FJ0oi"
      },
      "source": [
        "![image.png](data:image/png;base64,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)"
      ]
    },
    {
      "cell_type": "markdown",
      "metadata": {
        "id": "DesNbbSCK7iA"
      },
      "source": [
        "The estimated regression function (red line) has the equation:\n",
        "$$f(x) = b_o + 𝑏_1x$$ \n",
        "\n",
        "Our goal is to calculate the optimal values of the predicted weights 𝑏₀ and 𝑏₁ that minimize the sum of squared residuals (SSR) and determine the estimated regression function."
      ]
    },
    {
      "cell_type": "markdown",
      "metadata": {
        "id": "cBlpRHffLQTp"
      },
      "source": [
        "## Multiple Linear Regression"
      ]
    },
    {
      "cell_type": "markdown",
      "metadata": {
        "id": "JTXLFFmILXvG"
      },
      "source": [
        "Multiple or multivariate linear regression is a case of linear regression with two or more independent variables.\n",
        "\n",
        "If there are just two independent variables, the estimated regression function is:   \n",
        "$$f(x_1,x_2) = b_0 + b_1x_1 + b_2x_2$$\n",
        "It represents a regression plane in a three-dimensional space. The goal of regression is to determine the values of the weights 𝑏₀, 𝑏₁, and 𝑏₂ such that this plane is as close as possible to the actual responses and yield the minimal SSR."
      ]
    },
    {
      "cell_type": "markdown",
      "metadata": {
        "id": "f2BFcpryl6l0"
      },
      "source": [
        "![](img/lin1.png)\n",
        "\n",
        "<center><h4> Plane </h4></center>"
      ]
    },
    {
      "cell_type": "markdown",
      "metadata": {
        "id": "nM-uW1kShW0b"
      },
      "source": [
        "## Polynomial Regression"
      ]
    },
    {
      "cell_type": "markdown",
      "metadata": {
        "id": "SrKnG8HMhZE3"
      },
      "source": [
        "You can regard polynomial regression as a generalized case of linear regression. You assume the polynomial dependence between the output and inputs and, consequently, the polynomial estimated regression function.\n",
        "\n",
        "In other words, in addition to linear terms like 𝑏₁𝑥₁, your regression function 𝑓 can include non-linear terms such as 𝑏₂𝑥₁², 𝑏₃𝑥₁³, or even 𝑏₄𝑥₁𝑥₂, 𝑏₅𝑥₁²𝑥₂, and so on.\n",
        "\n",
        "\n",
        "The simplest example of polynomial regression has a single independent variable, and the estimated regression function is a polynomial of degree 2:\n",
        "$$ f(x) = b_o + b_1x + b_2x^2$$\n",
        "\n",
        "- Kernel Trick\n"
      ]
    },
    {
      "cell_type": "markdown",
      "metadata": {
        "id": "M4GVK6j9l6l0"
      },
      "source": [
        "## Regression Assumptions \n",
        "\n",
        "### Linearity\n",
        "\n",
        "The simple meaning of linearity is understand from scatter plot which is the straight line that drawn in between points on scatter plot.\n",
        "\n",
        "### No Heteroskedasticity\n",
        "The presence of non-constant variance in the error terms results in heteroskedasticity  \n",
        "\n",
        "**Residual Data**: The residual data of the simple linear regression model is the difference between the observed data of the dependent variable y and the fitted values ŷ.  \n",
        "` plt.scatter(pred, (pred - actual), c='b')`\n",
        "![](img/residual-plot.png)\n",
        "\n",
        "### No Multi-Colinearity\n",
        "Multicollinearity refers to a situation in which two or more explanatory variables in a multiple regression model are highly linearly related.  \n",
        " \n",
        "How to identify this:\n",
        "- Using Pearson-correlation. <br>\n",
        "\n",
        "How to fix this:  \n",
        "- Drop one of the two variables  \n",
        "- Create a function to create a new independent variable using the correlated features and drop the correlated features."
      ]
    },
    {
      "cell_type": "markdown",
      "metadata": {
        "id": "QrisOngVj_Gm"
      },
      "source": [
        "## Simple Linear Regression With scikit-learn"
      ]
    },
    {
      "cell_type": "markdown",
      "metadata": {
        "id": "dwT8MuDxmi8v"
      },
      "source": [
        "### Import the Packages"
      ]
    },
    {
      "cell_type": "code",
      "metadata": {
        "id": "LQUftsJ6C0e1"
      },
      "source": [
        "import numpy as np\n",
        "from sklearn.linear_model import LinearRegression"
      ],
      "execution_count": null,
      "outputs": []
    },
    {
      "cell_type": "markdown",
      "metadata": {
        "id": "8FrcERYtmqOW"
      },
      "source": [
        "### Provide Data"
      ]
    },
    {
      "cell_type": "code",
      "metadata": {
        "id": "FqECs48CC0Tg"
      },
      "source": [
        "from sklearn.datasets import make_regression\n",
        "X, y = make_regression(n_samples=100, n_features=1, noise=5,random_state=42) # noise defines the distribution deviation from the mean and random state allows us generate the same data like seed"
      ],
      "execution_count": null,
      "outputs": []
    },
    {
      "cell_type": "code",
      "metadata": {
        "id": "xEQPSV65l6l0"
      },
      "source": [
        "import matplotlib.pyplot as plt"
      ],
      "execution_count": null,
      "outputs": []
    },
    {
      "cell_type": "code",
      "metadata": {
        "colab": {
          "base_uri": "https://localhost:8080/",
          "height": 283
        },
        "id": "WWGwhk7Ql6l0",
        "outputId": "97ca87b2-7ae1-4f4a-8348-b2a8ada0b27f"
      },
      "source": [
        "plt.scatter(X, y)"
      ],
      "execution_count": null,
      "outputs": [
        {
          "output_type": "execute_result",
          "data": {
            "text/plain": [
              "<matplotlib.collections.PathCollection at 0x7ff6d3a59be0>"
            ]
          },
          "metadata": {
            "tags": []
          },
          "execution_count": 4
        },
        {
          "output_type": "display_data",
          "data": {
            "image/png": "[encoded data removed]",
            "text/plain": [
              "<Figure size 432x288 with 1 Axes>"
            ]
          },
          "metadata": {
            "tags": [],
            "needs_background": "light"
          }
        }
      ]
    },
    {
      "cell_type": "markdown",
      "metadata": {
        "id": "7lgOFL7xmw6I"
      },
      "source": [
        "### Create a model & fit"
      ]
    },
    {
      "cell_type": "code",
      "metadata": {
        "id": "c9pvWB2xC0HP"
      },
      "source": [
        "model = LinearRegression()"
      ],
      "execution_count": null,
      "outputs": []
    },
    {
      "cell_type": "code",
      "metadata": {
        "colab": {
          "base_uri": "https://localhost:8080/"
        },
        "id": "Z6ZSZku6Cz7p",
        "outputId": "a2eaea3e-e82e-4cc3-e98f-119cac3e4b91"
      },
      "source": [
        "model.fit(X, y)"
      ],
      "execution_count": null,
      "outputs": [
        {
          "output_type": "execute_result",
          "data": {
            "text/plain": [
              "LinearRegression(copy_X=True, fit_intercept=True, n_jobs=None, normalize=False)"
            ]
          },
          "metadata": {
            "tags": []
          },
          "execution_count": 6
        }
      ]
    },
    {
      "cell_type": "markdown",
      "metadata": {
        "id": "sooWWsmqm6RP"
      },
      "source": [
        "### Get Results"
      ]
    },
    {
      "cell_type": "code",
      "metadata": {
        "colab": {
          "base_uri": "https://localhost:8080/"
        },
        "id": "mFxmTaseCzu_",
        "outputId": "87227251-3d8a-4b2e-8754-3990e696283b"
      },
      "source": [
        "r_sq = model.score(X, y)\n",
        "print('Coefficient of determination (R2):', r_sq)"
      ],
      "execution_count": null,
      "outputs": [
        {
          "output_type": "stream",
          "text": [
            "Coefficient of determination (R2): 0.9872919587211264\n"
          ],
          "name": "stdout"
        }
      ]
    },
    {
      "cell_type": "code",
      "metadata": {
        "colab": {
          "base_uri": "https://localhost:8080/"
        },
        "id": "obl0Qm53Czfx",
        "outputId": "793bed2c-ea92-4470-aa90-2f4a6b3e3703"
      },
      "source": [
        "print('intercept:', model.intercept_)\n",
        "print('slope:', model.coef_)\n"
      ],
      "execution_count": null,
      "outputs": [
        {
          "output_type": "stream",
          "text": [
            "intercept: 0.5825576602634852\n",
            "slope: [43.08913515]\n"
          ],
          "name": "stdout"
        }
      ]
    },
    {
      "cell_type": "code",
      "metadata": {
        "id": "fT1MX9Q3p0SI"
      },
      "source": [
        "# function for fitted values ie to predict values\n",
        "# y = 43.1* X +  0.58"
      ],
      "execution_count": null,
      "outputs": []
    },
    {
      "cell_type": "markdown",
      "metadata": {
        "id": "L3CUuxm0nBb3"
      },
      "source": [
        "### Predict"
      ]
    },
    {
      "cell_type": "code",
      "metadata": {
        "colab": {
          "base_uri": "https://localhost:8080/"
        },
        "id": "b8Jb11mTCzMV",
        "outputId": "e8c545e4-b18c-4605-f452-13172dca8c90"
      },
      "source": [
        "X_test, y_test = make_regression(n_samples=100, n_features=1, noise=20 ,random_state=42)\n",
        "y_pred = model.predict(X_test)\n",
        "print('predicted response:', y_pred, sep='\\n')"
      ],
      "execution_count": null,
      "outputs": [
        {
          "output_type": "stream",
          "text": [
            "predicted response:\n",
            "[ 4.07106126e+01  4.33334055e+00 -4.49932915e+01  1.41232034e+01\n",
            " -2.00646458e+01  2.84908966e+01 -1.93857099e+01  2.39610007e+01\n",
            "  2.69391599e+01  4.38239223e+01  3.59976258e+01  6.68552231e+01\n",
            "  3.24024439e+01 -8.88291400e+00 -3.42547325e+01  4.53645016e+00\n",
            " -8.38579332e+01  2.26988075e+01  4.50074354e+01 -1.12299993e+02\n",
            "  2.19855409e+01  4.76554530e+00 -1.94853346e+01  4.00264432e+01\n",
            "  6.80016996e+01  6.37360956e+01 -2.52984440e+01 -9.61155381e-01\n",
            " -2.53444599e+01 -5.09609512e+01  1.59702295e+01  1.67710603e+01\n",
            "  1.18312036e+01 -2.22443514e+01 -3.85434145e+01  9.06513806e+00\n",
            " -1.23014105e+01  1.61651412e+01  3.60253065e+01 -1.19862737e+01\n",
            "  1.61547817e+01 -2.85854259e+01  6.62085970e+01 -2.17492578e+01\n",
            " -9.50690875e+00 -1.63130435e+01 -1.23917402e+01 -2.72150946e+01\n",
            "  1.47481587e+01  9.58230933e+00 -1.35361209e+01  8.02892085e-01\n",
            " -9.50620132e+00  6.42637339e+01 -1.60103048e+01  1.53887726e+01\n",
            "  1.48564124e+01 -7.41732708e+00 -9.52559904e+00 -8.50600679e+01\n",
            "  1.45470556e+01 -9.14594787e+00 -4.70884596e+01 -2.96683030e+01\n",
            " -6.24790357e+01  4.23206326e+01 -7.37426600e+01 -8.18590334e+01\n",
            " -2.36459257e+01  3.36506564e+01  3.55935926e+01 -6.02723874e+01\n",
            " -6.31256762e+01 -5.20225394e+01 -3.55785996e+01  6.86294721e+01\n",
            "  4.26179535e+01  1.10085027e+01  1.33421243e+01 -2.28744231e+01\n",
            " -7.53853179e+01  5.36211612e+00  7.96666869e+00 -5.66478305e+01\n",
            "  4.61330401e+01 -4.40062681e+00 -1.96466876e+01  9.73919333e-04\n",
            " -4.30594594e+01 -5.37513150e+00 -4.90127602e+01  5.90217676e+01\n",
            "  3.49228960e+00 -2.10377194e+01 -1.92659686e+01  8.03956227e+01\n",
            " -6.08086095e+01 -3.04349067e+01 -2.52029620e+00 -1.27411362e+01]\n"
          ],
          "name": "stdout"
        }
      ]
    },
    {
      "cell_type": "code",
      "metadata": {
        "scrolled": true,
        "colab": {
          "base_uri": "https://localhost:8080/",
          "height": 283
        },
        "id": "PCkuKNGyl6l3",
        "outputId": "4c0c0e09-c7d9-40ee-8c9e-8e9b101cff57"
      },
      "source": [
        "plt.scatter(X, y, color=\"red\")\n",
        "plt.scatter(X_test, y_pred)"
      ],
      "execution_count": null,
      "outputs": [
        {
          "output_type": "execute_result",
          "data": {
            "text/plain": [
              "<matplotlib.collections.PathCollection at 0x7ff6d39dee48>"
            ]
          },
          "metadata": {
            "tags": []
          },
          "execution_count": 10
        },
        {
          "output_type": "display_data",
          "data": {
            "image/png": "[encoded data removed]",
            "text/plain": [
              "<Figure size 432x288 with 1 Axes>"
            ]
          },
          "metadata": {
            "tags": [],
            "needs_background": "light"
          }
        }
      ]
    },
    {
      "cell_type": "code",
      "metadata": {
        "colab": {
          "base_uri": "https://localhost:8080/"
        },
        "id": "O7uDQZMVl6l3",
        "outputId": "eedf3045-c5a7-4d96-a91d-048355fe60cb"
      },
      "source": [
        "model.score(X, y)"
      ],
      "execution_count": null,
      "outputs": [
        {
          "output_type": "execute_result",
          "data": {
            "text/plain": [
              "0.9872919587211264"
            ]
          },
          "metadata": {
            "tags": []
          },
          "execution_count": 11
        }
      ]
    },
    {
      "cell_type": "code",
      "metadata": {
        "colab": {
          "base_uri": "https://localhost:8080/"
        },
        "id": "A1pBAvhdl6l5",
        "outputId": "74768747-0c6b-45d5-be21-96c1e0403018"
      },
      "source": [
        "r_t = model.score(X_test, y_test)\n",
        "print('Coefficient of determination (R2) of test:', r_t)"
      ],
      "execution_count": null,
      "outputs": [
        {
          "output_type": "stream",
          "text": [
            "Coefficient of determination (R2) of test: 0.8460442632197438\n"
          ],
          "name": "stdout"
        }
      ]
    },
    {
      "cell_type": "markdown",
      "metadata": {
        "id": "icAi86X1nJLc"
      },
      "source": [
        "## Multiple Linear Regression With scikit-learn"
      ]
    },
    {
      "cell_type": "markdown",
      "metadata": {
        "id": "H0xTkmm_nVJ9"
      },
      "source": [
        "### Provide Data"
      ]
    },
    {
      "cell_type": "code",
      "metadata": {
        "id": "Diw806hRl1A_"
      },
      "source": [
        "from sklearn.datasets import make_regression\n",
        "X_m, y_m = make_regression(n_samples=100, n_features=2, noise=20,random_state=42)"
      ],
      "execution_count": null,
      "outputs": []
    },
    {
      "cell_type": "code",
      "metadata": {
        "colab": {
          "base_uri": "https://localhost:8080/"
        },
        "id": "DSsXWvsXl6l6",
        "outputId": "9ccca097-6ede-4946-94e8-fba84ffd3e18"
      },
      "source": [
        "X_m[1:5]"
      ],
      "execution_count": null,
      "outputs": [
        {
          "output_type": "execute_result",
          "data": {
            "text/plain": [
              "array([[ 0.05820872, -1.1429703 ],\n",
              "       [ 0.58685709,  2.19045563],\n",
              "       [ 0.47323762, -0.07282891],\n",
              "       [ 0.73846658,  0.17136828]])"
            ]
          },
          "metadata": {
            "tags": []
          },
          "execution_count": 14
        }
      ]
    },
    {
      "cell_type": "markdown",
      "metadata": {
        "id": "otpUMvJZn1kM"
      },
      "source": [
        "### Create a model & fit"
      ]
    },
    {
      "cell_type": "code",
      "metadata": {
        "id": "3CHiKIZZl1K6"
      },
      "source": [
        "model = LinearRegression().fit(X_m, y_m)"
      ],
      "execution_count": null,
      "outputs": []
    },
    {
      "cell_type": "markdown",
      "metadata": {
        "id": "kLOWx40on-L0"
      },
      "source": [
        "### Get Results"
      ]
    },
    {
      "cell_type": "code",
      "metadata": {
        "colab": {
          "base_uri": "https://localhost:8080/"
        },
        "id": "iBt3pM-hl1S4",
        "outputId": "bc75b549-5540-4485-f006-71365b4259fd"
      },
      "source": [
        "r_sq = model.score(X_m, y_m)\n",
        "print('coefficient of determination:', r_sq)\n",
        "print('intercept:', model.intercept_)\n",
        "print('slope:', model.coef_)\n"
      ],
      "execution_count": null,
      "outputs": [
        {
          "output_type": "stream",
          "text": [
            "coefficient of determination: 0.959604849170989\n",
            "intercept: 0.4327161689219041\n",
            "slope: [84.26785337 74.15664645]\n"
          ],
          "name": "stdout"
        }
      ]
    },
    {
      "cell_type": "markdown",
      "metadata": {
        "id": "TY6mePg5oSBE"
      },
      "source": [
        "### Predict"
      ]
    },
    {
      "cell_type": "code",
      "metadata": {
        "colab": {
          "base_uri": "https://localhost:8080/"
        },
        "id": "6ViFtCWfl1a5",
        "scrolled": true,
        "outputId": "d40e02e2-65cb-402e-e2b7-61956e58a9fe"
      },
      "source": [
        "Xm_test, ym_test = make_regression(n_samples=20, n_features=2, noise=20, random_state=42)\n",
        "\n",
        "ym_pred = model.predict(Xm_test)\n",
        "print('predicted response:', ym_pred, sep='\\n')"
      ],
      "execution_count": null,
      "outputs": [
        {
          "output_type": "stream",
          "text": [
            "predicted response:\n",
            "[ -53.2618421   -81.47203332  182.21191983 -185.91510539  -48.19449499\n",
            "  -30.58967254 -142.85219232  -89.69922222  -68.68904094 -149.21585472\n",
            "  -41.44798528   90.09462956  -73.17883242 -174.86416876 -114.62008988\n",
            "  -36.66153161   11.33844031  111.89967811   25.61613614  176.80558272]\n"
          ],
          "name": "stdout"
        }
      ]
    },
    {
      "cell_type": "code",
      "metadata": {
        "colab": {
          "base_uri": "https://localhost:8080/"
        },
        "id": "TPeikIIJl6l6",
        "outputId": "bf8e7bfd-28bc-4fd7-973a-8315d2684105"
      },
      "source": [
        "print('Coefficient of determination (R2) of test:', model.score(Xm_test,ym_test))"
      ],
      "execution_count": null,
      "outputs": [
        {
          "output_type": "stream",
          "text": [
            "Coefficient of determination (R2) of test: 0.9587826719061529\n"
          ],
          "name": "stdout"
        }
      ]
    },
    {
      "cell_type": "code",
      "metadata": {
        "colab": {
          "base_uri": "https://localhost:8080/"
        },
        "id": "u_hZX7G7l6l7",
        "outputId": "a8313b76-8185-4d9d-a844-974d4ad4ed61"
      },
      "source": [
        "from sklearn.metrics import r2_score\n",
        "r2_score(ym_test, ym_pred)"
      ],
      "execution_count": null,
      "outputs": [
        {
          "output_type": "execute_result",
          "data": {
            "text/plain": [
              "0.9587826719061529"
            ]
          },
          "metadata": {
            "tags": []
          },
          "execution_count": 19
        }
      ]
    },
    {
      "cell_type": "markdown",
      "metadata": {
        "id": "0t2bMe0DruXG"
      },
      "source": [
        "## Cost Function"
      ]
    },
    {
      "cell_type": "markdown",
      "metadata": {
        "id": "h0d9Gg4Sr_JD"
      },
      "source": [
        "It is a function that measures the performance of a Machine Learning model for given data. Cost Function quantifies the error between predicted values and expected values and presents it in the form of a single real number."
      ]
    },
    {
      "cell_type": "markdown",
      "metadata": {
        "id": "3KrPoOTJjDpS"
      },
      "source": [
        "$$MSE = \\frac{1}{m}\\sum_{n=1}^{m} (y_p-y)^{2}$$"
      ]
    },
    {
      "cell_type": "markdown",
      "metadata": {
        "id": "b-CqFQ0cmijD"
      },
      "source": [
        "#### Mean Square Error (MSE)"
      ]
    },
    {
      "cell_type": "code",
      "metadata": {
        "id": "aN7vK0AGl6l7"
      },
      "source": [
        "from sklearn.metrics import mean_squared_error"
      ],
      "execution_count": null,
      "outputs": []
    },
    {
      "cell_type": "code",
      "metadata": {
        "colab": {
          "base_uri": "https://localhost:8080/"
        },
        "id": "rH2VmlR0l6l7",
        "outputId": "306ec746-73c6-4c4a-ce0d-a0a49049fe29"
      },
      "source": [
        "mean_squared_error(y, y_pred)"
      ],
      "execution_count": null,
      "outputs": [
        {
          "output_type": "execute_result",
          "data": {
            "text/plain": [
              "19.513562605309748"
            ]
          },
          "metadata": {
            "tags": []
          },
          "execution_count": 21
        }
      ]
    },
    {
      "cell_type": "code",
      "metadata": {
        "colab": {
          "base_uri": "https://localhost:8080/"
        },
        "id": "-W9Q6ycLl6l8",
        "outputId": "18e42070-0bec-4c57-d4c8-b2eefb3106c2"
      },
      "source": [
        "np.mean((y - y_pred)**2)"
      ],
      "execution_count": null,
      "outputs": [
        {
          "output_type": "execute_result",
          "data": {
            "text/plain": [
              "19.513562605309748"
            ]
          },
          "metadata": {
            "tags": []
          },
          "execution_count": 22
        }
      ]
    },
    {
      "cell_type": "markdown",
      "metadata": {
        "id": "K-pdKOBFl6l-"
      },
      "source": [
        "#### Mean Square Error (MAE)"
      ]
    },
    {
      "cell_type": "code",
      "metadata": {
        "id": "HDHe3IpOl6l-",
        "outputId": "4eb30d03-ebed-454c-ed71-189684aafd5a"
      },
      "source": [
        "from sklearn.metrics import mean_absolute_error\n",
        "mean_absolute_error(y,y_pred)"
      ],
      "execution_count": null,
      "outputs": [
        {
          "output_type": "execute_result",
          "data": {
            "text/plain": [
              "3.5522465657069584"
            ]
          },
          "metadata": {
            "tags": []
          },
          "execution_count": 104
        }
      ]
    },
    {
      "cell_type": "markdown",
      "metadata": {
        "id": "cxlF9PxGl6l-"
      },
      "source": [
        "#### Adjusted ($R^2$)\n",
        "\n",
        "Adjusted R2 also indicates how well terms fit a curve or line, but adjusts for the number of terms in a model. If you add more and more useless variables to a model, adjusted r-squared will decrease. If you add more useful variables, adjusted r-squared will increase.\n",
        "Adjusted $R^2$ will always be less than or equal to $R^2$."
      ]
    },
    {
      "cell_type": "code",
      "metadata": {
        "id": "nB8tXBWul6l-"
      },
      "source": [
        "def adj_r2 (X,y,model):\n",
        "    r_squared = model.score(X,y)\n",
        "    return(1 - (1-r_squared)*(len(y)-1)/(len(y)-X.shape[1]-1))"
      ],
      "execution_count": null,
      "outputs": []
    },
    {
      "cell_type": "code",
      "metadata": {
        "colab": {
          "base_uri": "https://localhost:8080/"
        },
        "id": "LYXrjhcFl6l-",
        "outputId": "d90ba49e-1a80-4da4-8faf-846e2cb8d7ab"
      },
      "source": [
        "adj_r2(Xm_test, ym_test, model)"
      ],
      "execution_count": null,
      "outputs": [
        {
          "output_type": "execute_result",
          "data": {
            "text/plain": [
              "0.9539335744833473"
            ]
          },
          "metadata": {
            "tags": []
          },
          "execution_count": 31
        }
      ]
    },
    {
      "cell_type": "markdown",
      "metadata": {
        "id": "WWqEAbVPl6l-"
      },
      "source": [
        "# Real Life Example"
      ]
    },
    {
      "cell_type": "code",
      "metadata": {
        "colab": {
          "base_uri": "https://localhost:8080/",
          "height": 189
        },
        "id": "WukgyM5_l6l-",
        "outputId": "f54c3cec-5ad2-4240-b2ae-4d92f80c7542"
      },
      "source": [
        "from sklearn.datasets import load_boston\n",
        "import pandas as pd\n",
        "\n",
        "Xb,yb =load_boston(return_X_y=True)\n",
        "\n",
        "df_boston = pd.DataFrame(Xb,columns = load_boston().feature_names)\n",
        "df_boston.head()"
      ],
      "execution_count": null,
      "outputs": [
        {
          "output_type": "execute_result",
          "data": {
            "text/html": [
              "<div>\n",
              "<style scoped>\n",
              "    .dataframe tbody tr th:only-of-type {\n",
              "        vertical-align: middle;\n",
              "    }\n",
              "\n",
              "    .dataframe tbody tr th {\n",
              "        vertical-align: top;\n",
              "    }\n",
              "\n",
              "    .dataframe thead th {\n",
              "        text-align: right;\n",
              "    }\n",
              "</style>\n",
              "<table border=\"1\" class=\"dataframe\">\n",
              "  <thead>\n",
              "    <tr style=\"text-align: right;\">\n",
              "      <th></th>\n",
              "      <th>CRIM</th>\n",
              "      <th>ZN</th>\n",
              "      <th>INDUS</th>\n",
              "      <th>CHAS</th>\n",
              "      <th>NOX</th>\n",
              "      <th>RM</th>\n",
              "      <th>AGE</th>\n",
              "      <th>DIS</th>\n",
              "      <th>RAD</th>\n",
              "      <th>TAX</th>\n",
              "      <th>PTRATIO</th>\n",
              "      <th>B</th>\n",
              "      <th>LSTAT</th>\n",
              "    </tr>\n",
              "  </thead>\n",
              "  <tbody>\n",
              "    <tr>\n",
              "      <th>0</th>\n",
              "      <td>0.00632</td>\n",
              "      <td>18.0</td>\n",
              "      <td>2.31</td>\n",
              "      <td>0.0</td>\n",
              "      <td>0.538</td>\n",
              "      <td>6.575</td>\n",
              "      <td>65.2</td>\n",
              "      <td>4.0900</td>\n",
              "      <td>1.0</td>\n",
              "      <td>296.0</td>\n",
              "      <td>15.3</td>\n",
              "      <td>396.90</td>\n",
              "      <td>4.98</td>\n",
              "    </tr>\n",
              "    <tr>\n",
              "      <th>1</th>\n",
              "      <td>0.02731</td>\n",
              "      <td>0.0</td>\n",
              "      <td>7.07</td>\n",
              "      <td>0.0</td>\n",
              "      <td>0.469</td>\n",
              "      <td>6.421</td>\n",
              "      <td>78.9</td>\n",
              "      <td>4.9671</td>\n",
              "      <td>2.0</td>\n",
              "      <td>242.0</td>\n",
              "      <td>17.8</td>\n",
              "      <td>396.90</td>\n",
              "      <td>9.14</td>\n",
              "    </tr>\n",
              "    <tr>\n",
              "      <th>2</th>\n",
              "      <td>0.02729</td>\n",
              "      <td>0.0</td>\n",
              "      <td>7.07</td>\n",
              "      <td>0.0</td>\n",
              "      <td>0.469</td>\n",
              "      <td>7.185</td>\n",
              "      <td>61.1</td>\n",
              "      <td>4.9671</td>\n",
              "      <td>2.0</td>\n",
              "      <td>242.0</td>\n",
              "      <td>17.8</td>\n",
              "      <td>392.83</td>\n",
              "      <td>4.03</td>\n",
              "    </tr>\n",
              "    <tr>\n",
              "      <th>3</th>\n",
              "      <td>0.03237</td>\n",
              "      <td>0.0</td>\n",
              "      <td>2.18</td>\n",
              "      <td>0.0</td>\n",
              "      <td>0.458</td>\n",
              "      <td>6.998</td>\n",
              "      <td>45.8</td>\n",
              "      <td>6.0622</td>\n",
              "      <td>3.0</td>\n",
              "      <td>222.0</td>\n",
              "      <td>18.7</td>\n",
              "      <td>394.63</td>\n",
              "      <td>2.94</td>\n",
              "    </tr>\n",
              "    <tr>\n",
              "      <th>4</th>\n",
              "      <td>0.06905</td>\n",
              "      <td>0.0</td>\n",
              "      <td>2.18</td>\n",
              "      <td>0.0</td>\n",
              "      <td>0.458</td>\n",
              "      <td>7.147</td>\n",
              "      <td>54.2</td>\n",
              "      <td>6.0622</td>\n",
              "      <td>3.0</td>\n",
              "      <td>222.0</td>\n",
              "      <td>18.7</td>\n",
              "      <td>396.90</td>\n",
              "      <td>5.33</td>\n",
              "    </tr>\n",
              "  </tbody>\n",
              "</table>\n",
              "</div>"
            ],
            "text/plain": [
              "      CRIM    ZN  INDUS  CHAS    NOX  ...  RAD    TAX  PTRATIO       B  LSTAT\n",
              "0  0.00632  18.0   2.31   0.0  0.538  ...  1.0  296.0     15.3  396.90   4.98\n",
              "1  0.02731   0.0   7.07   0.0  0.469  ...  2.0  242.0     17.8  396.90   9.14\n",
              "2  0.02729   0.0   7.07   0.0  0.469  ...  2.0  242.0     17.8  392.83   4.03\n",
              "3  0.03237   0.0   2.18   0.0  0.458  ...  3.0  222.0     18.7  394.63   2.94\n",
              "4  0.06905   0.0   2.18   0.0  0.458  ...  3.0  222.0     18.7  396.90   5.33\n",
              "\n",
              "[5 rows x 13 columns]"
            ]
          },
          "metadata": {
            "tags": []
          },
          "execution_count": 23
        }
      ]
    },
    {
      "cell_type": "code",
      "metadata": {
        "id": "Tm5_a-MUl6l_",
        "outputId": "fc5ce0d0-b1c2-4cbb-da8d-dfd97a5d818a"
      },
      "source": [
        "df_boston.info()"
      ],
      "execution_count": null,
      "outputs": [
        {
          "output_type": "stream",
          "text": [
            "<class 'pandas.core.frame.DataFrame'>\n",
            "RangeIndex: 506 entries, 0 to 505\n",
            "Data columns (total 13 columns):\n",
            " #   Column   Non-Null Count  Dtype  \n",
            "---  ------   --------------  -----  \n",
            " 0   CRIM     506 non-null    float64\n",
            " 1   ZN       506 non-null    float64\n",
            " 2   INDUS    506 non-null    float64\n",
            " 3   CHAS     506 non-null    float64\n",
            " 4   NOX      506 non-null    float64\n",
            " 5   RM       506 non-null    float64\n",
            " 6   AGE      506 non-null    float64\n",
            " 7   DIS      506 non-null    float64\n",
            " 8   RAD      506 non-null    float64\n",
            " 9   TAX      506 non-null    float64\n",
            " 10  PTRATIO  506 non-null    float64\n",
            " 11  B        506 non-null    float64\n",
            " 12  LSTAT    506 non-null    float64\n",
            "dtypes: float64(13)\n",
            "memory usage: 51.5 KB\n"
          ],
          "name": "stdout"
        }
      ]
    },
    {
      "cell_type": "code",
      "metadata": {
        "id": "_LGMmtALl6l_",
        "outputId": "d8ee2e13-3490-4287-c83c-37b4c6e47135"
      },
      "source": [
        "df_boston.describe()"
      ],
      "execution_count": null,
      "outputs": [
        {
          "output_type": "execute_result",
          "data": {
            "text/html": [
              "<div>\n",
              "<style scoped>\n",
              "    .dataframe tbody tr th:only-of-type {\n",
              "        vertical-align: middle;\n",
              "    }\n",
              "\n",
              "    .dataframe tbody tr th {\n",
              "        vertical-align: top;\n",
              "    }\n",
              "\n",
              "    .dataframe thead th {\n",
              "        text-align: right;\n",
              "    }\n",
              "</style>\n",
              "<table border=\"1\" class=\"dataframe\">\n",
              "  <thead>\n",
              "    <tr style=\"text-align: right;\">\n",
              "      <th></th>\n",
              "      <th>CRIM</th>\n",
              "      <th>ZN</th>\n",
              "      <th>INDUS</th>\n",
              "      <th>CHAS</th>\n",
              "      <th>NOX</th>\n",
              "      <th>RM</th>\n",
              "      <th>AGE</th>\n",
              "      <th>DIS</th>\n",
              "      <th>RAD</th>\n",
              "      <th>TAX</th>\n",
              "      <th>PTRATIO</th>\n",
              "      <th>B</th>\n",
              "      <th>LSTAT</th>\n",
              "    </tr>\n",
              "  </thead>\n",
              "  <tbody>\n",
              "    <tr>\n",
              "      <th>count</th>\n",
              "      <td>506.000000</td>\n",
              "      <td>506.000000</td>\n",
              "      <td>506.000000</td>\n",
              "      <td>506.000000</td>\n",
              "      <td>506.000000</td>\n",
              "      <td>506.000000</td>\n",
              "      <td>506.000000</td>\n",
              "      <td>506.000000</td>\n",
              "      <td>506.000000</td>\n",
              "      <td>506.000000</td>\n",
              "      <td>506.000000</td>\n",
              "      <td>506.000000</td>\n",
              "      <td>506.000000</td>\n",
              "    </tr>\n",
              "    <tr>\n",
              "      <th>mean</th>\n",
              "      <td>3.613524</td>\n",
              "      <td>11.363636</td>\n",
              "      <td>11.136779</td>\n",
              "      <td>0.069170</td>\n",
              "      <td>0.554695</td>\n",
              "      <td>6.284634</td>\n",
              "      <td>68.574901</td>\n",
              "      <td>3.795043</td>\n",
              "      <td>9.549407</td>\n",
              "      <td>408.237154</td>\n",
              "      <td>18.455534</td>\n",
              "      <td>356.674032</td>\n",
              "      <td>12.653063</td>\n",
              "    </tr>\n",
              "    <tr>\n",
              "      <th>std</th>\n",
              "      <td>8.601545</td>\n",
              "      <td>23.322453</td>\n",
              "      <td>6.860353</td>\n",
              "      <td>0.253994</td>\n",
              "      <td>0.115878</td>\n",
              "      <td>0.702617</td>\n",
              "      <td>28.148861</td>\n",
              "      <td>2.105710</td>\n",
              "      <td>8.707259</td>\n",
              "      <td>168.537116</td>\n",
              "      <td>2.164946</td>\n",
              "      <td>91.294864</td>\n",
              "      <td>7.141062</td>\n",
              "    </tr>\n",
              "    <tr>\n",
              "      <th>min</th>\n",
              "      <td>0.006320</td>\n",
              "      <td>0.000000</td>\n",
              "      <td>0.460000</td>\n",
              "      <td>0.000000</td>\n",
              "      <td>0.385000</td>\n",
              "      <td>3.561000</td>\n",
              "      <td>2.900000</td>\n",
              "      <td>1.129600</td>\n",
              "      <td>1.000000</td>\n",
              "      <td>187.000000</td>\n",
              "      <td>12.600000</td>\n",
              "      <td>0.320000</td>\n",
              "      <td>1.730000</td>\n",
              "    </tr>\n",
              "    <tr>\n",
              "      <th>25%</th>\n",
              "      <td>0.082045</td>\n",
              "      <td>0.000000</td>\n",
              "      <td>5.190000</td>\n",
              "      <td>0.000000</td>\n",
              "      <td>0.449000</td>\n",
              "      <td>5.885500</td>\n",
              "      <td>45.025000</td>\n",
              "      <td>2.100175</td>\n",
              "      <td>4.000000</td>\n",
              "      <td>279.000000</td>\n",
              "      <td>17.400000</td>\n",
              "      <td>375.377500</td>\n",
              "      <td>6.950000</td>\n",
              "    </tr>\n",
              "    <tr>\n",
              "      <th>50%</th>\n",
              "      <td>0.256510</td>\n",
              "      <td>0.000000</td>\n",
              "      <td>9.690000</td>\n",
              "      <td>0.000000</td>\n",
              "      <td>0.538000</td>\n",
              "      <td>6.208500</td>\n",
              "      <td>77.500000</td>\n",
              "      <td>3.207450</td>\n",
              "      <td>5.000000</td>\n",
              "      <td>330.000000</td>\n",
              "      <td>19.050000</td>\n",
              "      <td>391.440000</td>\n",
              "      <td>11.360000</td>\n",
              "    </tr>\n",
              "    <tr>\n",
              "      <th>75%</th>\n",
              "      <td>3.677083</td>\n",
              "      <td>12.500000</td>\n",
              "      <td>18.100000</td>\n",
              "      <td>0.000000</td>\n",
              "      <td>0.624000</td>\n",
              "      <td>6.623500</td>\n",
              "      <td>94.075000</td>\n",
              "      <td>5.188425</td>\n",
              "      <td>24.000000</td>\n",
              "      <td>666.000000</td>\n",
              "      <td>20.200000</td>\n",
              "      <td>396.225000</td>\n",
              "      <td>16.955000</td>\n",
              "    </tr>\n",
              "    <tr>\n",
              "      <th>max</th>\n",
              "      <td>88.976200</td>\n",
              "      <td>100.000000</td>\n",
              "      <td>27.740000</td>\n",
              "      <td>1.000000</td>\n",
              "      <td>0.871000</td>\n",
              "      <td>8.780000</td>\n",
              "      <td>100.000000</td>\n",
              "      <td>12.126500</td>\n",
              "      <td>24.000000</td>\n",
              "      <td>711.000000</td>\n",
              "      <td>22.000000</td>\n",
              "      <td>396.900000</td>\n",
              "      <td>37.970000</td>\n",
              "    </tr>\n",
              "  </tbody>\n",
              "</table>\n",
              "</div>"
            ],
            "text/plain": [
              "             CRIM          ZN       INDUS        CHAS         NOX          RM  \\\n",
              "count  506.000000  506.000000  506.000000  506.000000  506.000000  506.000000   \n",
              "mean     3.613524   11.363636   11.136779    0.069170    0.554695    6.284634   \n",
              "std      8.601545   23.322453    6.860353    0.253994    0.115878    0.702617   \n",
              "min      0.006320    0.000000    0.460000    0.000000    0.385000    3.561000   \n",
              "25%      0.082045    0.000000    5.190000    0.000000    0.449000    5.885500   \n",
              "50%      0.256510    0.000000    9.690000    0.000000    0.538000    6.208500   \n",
              "75%      3.677083   12.500000   18.100000    0.000000    0.624000    6.623500   \n",
              "max     88.976200  100.000000   27.740000    1.000000    0.871000    8.780000   \n",
              "\n",
              "              AGE         DIS         RAD         TAX     PTRATIO           B  \\\n",
              "count  506.000000  506.000000  506.000000  506.000000  506.000000  506.000000   \n",
              "mean    68.574901    3.795043    9.549407  408.237154   18.455534  356.674032   \n",
              "std     28.148861    2.105710    8.707259  168.537116    2.164946   91.294864   \n",
              "min      2.900000    1.129600    1.000000  187.000000   12.600000    0.320000   \n",
              "25%     45.025000    2.100175    4.000000  279.000000   17.400000  375.377500   \n",
              "50%     77.500000    3.207450    5.000000  330.000000   19.050000  391.440000   \n",
              "75%     94.075000    5.188425   24.000000  666.000000   20.200000  396.225000   \n",
              "max    100.000000   12.126500   24.000000  711.000000   22.000000  396.900000   \n",
              "\n",
              "            LSTAT  \n",
              "count  506.000000  \n",
              "mean    12.653063  \n",
              "std      7.141062  \n",
              "min      1.730000  \n",
              "25%      6.950000  \n",
              "50%     11.360000  \n",
              "75%     16.955000  \n",
              "max     37.970000  "
            ]
          },
          "metadata": {
            "tags": []
          },
          "execution_count": 39
        }
      ]
    },
    {
      "cell_type": "code",
      "metadata": {
        "id": "rmW1Rw9dl6l_",
        "outputId": "c504cd7f-bd19-418d-c0b4-84df61329287"
      },
      "source": [
        "df_boston.isna().sum()"
      ],
      "execution_count": null,
      "outputs": [
        {
          "output_type": "execute_result",
          "data": {
            "text/plain": [
              "CRIM       0\n",
              "ZN         0\n",
              "INDUS      0\n",
              "CHAS       0\n",
              "NOX        0\n",
              "RM         0\n",
              "AGE        0\n",
              "DIS        0\n",
              "RAD        0\n",
              "TAX        0\n",
              "PTRATIO    0\n",
              "B          0\n",
              "LSTAT      0\n",
              "dtype: int64"
            ]
          },
          "metadata": {
            "tags": []
          },
          "execution_count": 47
        }
      ]
    },
    {
      "cell_type": "code",
      "metadata": {
        "colab": {
          "base_uri": "https://localhost:8080/",
          "height": 802
        },
        "id": "FMVkgjFal6l_",
        "outputId": "649db7f5-f840-4e9d-d384-5419b5a85a93"
      },
      "source": [
        "# Correlation of the features\n",
        "import seaborn as sns\n",
        "corr = df_boston.corr()\n",
        "\n",
        "plt.figure(figsize=(14, 14))\n",
        "ax = sns.heatmap(\n",
        "    corr, \n",
        "    vmin=-1, vmax=1, center=0,\n",
        "    cmap=sns.diverging_palette(20, 220, n=200),\n",
        "    square=True, annot = True\n",
        ")\n",
        "ax.set_xticklabels(\n",
        "    ax.get_xticklabels(),\n",
        "    rotation=45,\n",
        "    horizontalalignment='right'\n",
        ")\n",
        "ax.set_ylim(len(corr)+0.5, -0.5);"
      ],
      "execution_count": null,
      "outputs": [
        {
          "output_type": "display_data",
          "data": {
            "image/png": "[encoded data removed]",
            "text/plain": [
              "<Figure size 1008x1008 with 2 Axes>"
            ]
          },
          "metadata": {
            "tags": [],
            "needs_background": "light"
          }
        }
      ]
    },
    {
      "cell_type": "code",
      "metadata": {
        "id": "7Z8BXdxLl6l_"
      },
      "source": [
        "from sklearn.model_selection import train_test_split\n",
        "X_train, X_test, y_train, y_test = train_test_split(Xb,yb, test_size=0.3, random_state=42)"
      ],
      "execution_count": null,
      "outputs": []
    },
    {
      "cell_type": "markdown",
      "metadata": {
        "id": "-5mxMC3Kl6l_"
      },
      "source": [
        "`train_test_split` splits arrays or matrices into random train and test subsets. That means that everytime you run it without specifying `random_state`, you will get a different result. Thus, your project will not be reproducible."
      ]
    },
    {
      "cell_type": "code",
      "metadata": {
        "colab": {
          "base_uri": "https://localhost:8080/"
        },
        "id": "TILAE3jhl6l_",
        "outputId": "2fb6fb7f-b7b7-4b5e-f756-34fbaa9d9840"
      },
      "source": [
        "modelb = LinearRegression(normalize=False)\n",
        "modelb.fit(X_train,y_train)\n",
        "\n",
        "print(\"Score of the train set\",modelb.score(X_train,y_train))\n",
        "print(\"Score of the test set\",modelb.score(X_test,y_test))"
      ],
      "execution_count": null,
      "outputs": [
        {
          "output_type": "stream",
          "text": [
            "Score of the train set 0.7434997532004697\n",
            "Score of the test set 0.7112260057484974\n"
          ],
          "name": "stdout"
        }
      ]
    },
    {
      "cell_type": "code",
      "metadata": {
        "colab": {
          "base_uri": "https://localhost:8080/"
        },
        "id": "ReHryHxSl6mA",
        "outputId": "1437e7e1-f715-4e3f-8437-38e274d71f76"
      },
      "source": [
        "print(\"Adj. R2 of the train set\",adj_r2(X_train,y_train,modelb))\n",
        "print(\"Adj. R2 of the test set\",adj_r2(X_test,y_test,modelb))"
      ],
      "execution_count": null,
      "outputs": [
        {
          "output_type": "stream",
          "text": [
            "Adj. R2 of the train set 0.7336923908228405\n",
            "Adj. R2 of the test set 0.6840226584639355\n"
          ],
          "name": "stdout"
        }
      ]
    },
    {
      "cell_type": "code",
      "metadata": {
        "colab": {
          "base_uri": "https://localhost:8080/"
        },
        "id": "IBptHoAll6mA",
        "outputId": "eb597ec9-934d-4ae7-b43f-51df1136791b"
      },
      "source": [
        "importance = modelb.coef_\n",
        "for i in range(len(importance)):\n",
        "    print(\"Feature\", df_boston.columns[i], \"Score:\", importance[i])"
      ],
      "execution_count": null,
      "outputs": [
        {
          "output_type": "stream",
          "text": [
            "Feature CRIM Score: -0.13347010285294458\n",
            "Feature ZN Score: 0.03580891359323345\n",
            "Feature INDUS Score: 0.04952264522005847\n",
            "Feature CHAS Score: 3.119835116285383\n",
            "Feature NOX Score: -15.417060895306879\n",
            "Feature RM Score: 4.057199231645367\n",
            "Feature AGE Score: -0.010820835184929722\n",
            "Feature DIS Score: -1.3859982431608764\n",
            "Feature RAD Score: 0.24272733982224778\n",
            "Feature TAX Score: -0.008702234365662913\n",
            "Feature PTRATIO Score: -0.9106852081102895\n",
            "Feature B Score: 0.011794115892569896\n",
            "Feature LSTAT Score: -0.5471133128239618\n"
          ],
          "name": "stdout"
        }
      ]
    },
    {
      "cell_type": "code",
      "metadata": {
        "id": "segdJsRml6mA"
      },
      "source": [
        "# Dropping colerated features\n",
        "new_df = df_boston.drop([\"AGE\",\"INDUS\"],axis=1)"
      ],
      "execution_count": null,
      "outputs": []
    },
    {
      "cell_type": "code",
      "metadata": {
        "colab": {
          "base_uri": "https://localhost:8080/"
        },
        "id": "sMcGED49l6mA",
        "outputId": "4722f166-e350-4821-f0c4-e0d3bc0d3360"
      },
      "source": [
        "X_train, X_test, y_train, y_test = train_test_split(new_df,yb, test_size=0.3, random_state=42)\n",
        "modelb = LinearRegression(normalize=True)\n",
        "modelb.fit(X_train,y_train)\n",
        "print(\"Score of the train set\",modelb.score(X_train,y_train))\n",
        "print(\"Score of the test set\",modelb.score(X_test,y_test))"
      ],
      "execution_count": null,
      "outputs": [
        {
          "output_type": "stream",
          "text": [
            "Score of the train set 0.7431604123283125\n",
            "Score of the test set 0.7138676903216832\n"
          ],
          "name": "stdout"
        }
      ]
    },
    {
      "cell_type": "code",
      "metadata": {
        "colab": {
          "base_uri": "https://localhost:8080/"
        },
        "id": "40cRKY1yl6mA",
        "outputId": "1754b06c-7c8d-48b1-aeb7-2cc9040a76e1"
      },
      "source": [
        "print(\"Score of the train set\",adj_r2(X_train,y_train,modelb))\n",
        "print(\"Score of the test set\",adj_r2(X_test,y_test,modelb))"
      ],
      "execution_count": null,
      "outputs": [
        {
          "output_type": "stream",
          "text": [
            "Score of the train set 0.7341220690671388\n",
            "Score of the test set 0.6891656204213968\n"
          ],
          "name": "stdout"
        }
      ]
    },
    {
      "cell_type": "code",
      "metadata": {
        "colab": {
          "base_uri": "https://localhost:8080/"
        },
        "id": "p9xQaNnOl6mA",
        "outputId": "51cc3f35-178c-41df-a93f-a7f44a228359"
      },
      "source": [
        "# Scaling\n",
        "from scipy import stats\n",
        "import numpy as np\n",
        "z = np.abs(stats.zscore(df_boston))\n",
        "z"
      ],
      "execution_count": null,
      "outputs": [
        {
          "output_type": "execute_result",
          "data": {
            "text/plain": [
              "array([[0.41978194, 0.28482986, 1.2879095 , ..., 1.45900038, 0.44105193,\n",
              "        1.0755623 ],\n",
              "       [0.41733926, 0.48772236, 0.59338101, ..., 0.30309415, 0.44105193,\n",
              "        0.49243937],\n",
              "       [0.41734159, 0.48772236, 0.59338101, ..., 0.30309415, 0.39642699,\n",
              "        1.2087274 ],\n",
              "       ...,\n",
              "       [0.41344658, 0.48772236, 0.11573841, ..., 1.17646583, 0.44105193,\n",
              "        0.98304761],\n",
              "       [0.40776407, 0.48772236, 0.11573841, ..., 1.17646583, 0.4032249 ,\n",
              "        0.86530163],\n",
              "       [0.41500016, 0.48772236, 0.11573841, ..., 1.17646583, 0.44105193,\n",
              "        0.66905833]])"
            ]
          },
          "metadata": {
            "tags": []
          },
          "execution_count": 37
        }
      ]
    },
    {
      "cell_type": "code",
      "metadata": {
        "colab": {
          "base_uri": "https://localhost:8080/"
        },
        "id": "FBzL1bu5l6mA",
        "outputId": "ebfd047e-cb6c-48ed-9e7b-29c3cd670e1e"
      },
      "source": [
        "len(np.where(z > 3)[0])"
      ],
      "execution_count": null,
      "outputs": [
        {
          "output_type": "execute_result",
          "data": {
            "text/plain": [
              "100"
            ]
          },
          "metadata": {
            "tags": []
          },
          "execution_count": 38
        }
      ]
    },
    {
      "cell_type": "code",
      "metadata": {
        "colab": {
          "base_uri": "https://localhost:8080/",
          "height": 406
        },
        "id": "Z_XOsWgjl6mA",
        "outputId": "b0ab72e1-1f9e-4a74-dc15-29f2f44497e3"
      },
      "source": [
        "outliers = list(set(np.where(z > 3)[0]))\n",
        "new_df = df_boston.drop(outliers,axis = 0).reset_index(drop = False)\n",
        "display(new_df)\n",
        "\n",
        "y_new = yb[list(new_df[\"index\"])]\n",
        "len(y_new)"
      ],
      "execution_count": null,
      "outputs": [
        {
          "output_type": "display_data",
          "data": {
            "text/html": [
              "<div>\n",
              "<style scoped>\n",
              "    .dataframe tbody tr th:only-of-type {\n",
              "        vertical-align: middle;\n",
              "    }\n",
              "\n",
              "    .dataframe tbody tr th {\n",
              "        vertical-align: top;\n",
              "    }\n",
              "\n",
              "    .dataframe thead th {\n",
              "        text-align: right;\n",
              "    }\n",
              "</style>\n",
              "<table border=\"1\" class=\"dataframe\">\n",
              "  <thead>\n",
              "    <tr style=\"text-align: right;\">\n",
              "      <th></th>\n",
              "      <th>index</th>\n",
              "      <th>CRIM</th>\n",
              "      <th>ZN</th>\n",
              "      <th>INDUS</th>\n",
              "      <th>CHAS</th>\n",
              "      <th>NOX</th>\n",
              "      <th>RM</th>\n",
              "      <th>AGE</th>\n",
              "      <th>DIS</th>\n",
              "      <th>RAD</th>\n",
              "      <th>TAX</th>\n",
              "      <th>PTRATIO</th>\n",
              "      <th>B</th>\n",
              "      <th>LSTAT</th>\n",
              "    </tr>\n",
              "  </thead>\n",
              "  <tbody>\n",
              "    <tr>\n",
              "      <th>0</th>\n",
              "      <td>0</td>\n",
              "      <td>0.00632</td>\n",
              "      <td>18.0</td>\n",
              "      <td>2.31</td>\n",
              "      <td>0.0</td>\n",
              "      <td>0.538</td>\n",
              "      <td>6.575</td>\n",
              "      <td>65.2</td>\n",
              "      <td>4.0900</td>\n",
              "      <td>1.0</td>\n",
              "      <td>296.0</td>\n",
              "      <td>15.3</td>\n",
              "      <td>396.90</td>\n",
              "      <td>4.98</td>\n",
              "    </tr>\n",
              "    <tr>\n",
              "      <th>1</th>\n",
              "      <td>1</td>\n",
              "      <td>0.02731</td>\n",
              "      <td>0.0</td>\n",
              "      <td>7.07</td>\n",
              "      <td>0.0</td>\n",
              "      <td>0.469</td>\n",
              "      <td>6.421</td>\n",
              "      <td>78.9</td>\n",
              "      <td>4.9671</td>\n",
              "      <td>2.0</td>\n",
              "      <td>242.0</td>\n",
              "      <td>17.8</td>\n",
              "      <td>396.90</td>\n",
              "      <td>9.14</td>\n",
              "    </tr>\n",
              "    <tr>\n",
              "      <th>2</th>\n",
              "      <td>2</td>\n",
              "      <td>0.02729</td>\n",
              "      <td>0.0</td>\n",
              "      <td>7.07</td>\n",
              "      <td>0.0</td>\n",
              "      <td>0.469</td>\n",
              "      <td>7.185</td>\n",
              "      <td>61.1</td>\n",
              "      <td>4.9671</td>\n",
              "      <td>2.0</td>\n",
              "      <td>242.0</td>\n",
              "      <td>17.8</td>\n",
              "      <td>392.83</td>\n",
              "      <td>4.03</td>\n",
              "    </tr>\n",
              "    <tr>\n",
              "      <th>3</th>\n",
              "      <td>3</td>\n",
              "      <td>0.03237</td>\n",
              "      <td>0.0</td>\n",
              "      <td>2.18</td>\n",
              "      <td>0.0</td>\n",
              "      <td>0.458</td>\n",
              "      <td>6.998</td>\n",
              "      <td>45.8</td>\n",
              "      <td>6.0622</td>\n",
              "      <td>3.0</td>\n",
              "      <td>222.0</td>\n",
              "      <td>18.7</td>\n",
              "      <td>394.63</td>\n",
              "      <td>2.94</td>\n",
              "    </tr>\n",
              "    <tr>\n",
              "      <th>4</th>\n",
              "      <td>4</td>\n",
              "      <td>0.06905</td>\n",
              "      <td>0.0</td>\n",
              "      <td>2.18</td>\n",
              "      <td>0.0</td>\n",
              "      <td>0.458</td>\n",
              "      <td>7.147</td>\n",
              "      <td>54.2</td>\n",
              "      <td>6.0622</td>\n",
              "      <td>3.0</td>\n",
              "      <td>222.0</td>\n",
              "      <td>18.7</td>\n",
              "      <td>396.90</td>\n",
              "      <td>5.33</td>\n",
              "    </tr>\n",
              "    <tr>\n",
              "      <th>...</th>\n",
              "      <td>...</td>\n",
              "      <td>...</td>\n",
              "      <td>...</td>\n",
              "      <td>...</td>\n",
              "      <td>...</td>\n",
              "      <td>...</td>\n",
              "      <td>...</td>\n",
              "      <td>...</td>\n",
              "      <td>...</td>\n",
              "      <td>...</td>\n",
              "      <td>...</td>\n",
              "      <td>...</td>\n",
              "      <td>...</td>\n",
              "      <td>...</td>\n",
              "    </tr>\n",
              "    <tr>\n",
              "      <th>410</th>\n",
              "      <td>501</td>\n",
              "      <td>0.06263</td>\n",
              "      <td>0.0</td>\n",
              "      <td>11.93</td>\n",
              "      <td>0.0</td>\n",
              "      <td>0.573</td>\n",
              "      <td>6.593</td>\n",
              "      <td>69.1</td>\n",
              "      <td>2.4786</td>\n",
              "      <td>1.0</td>\n",
              "      <td>273.0</td>\n",
              "      <td>21.0</td>\n",
              "      <td>391.99</td>\n",
              "      <td>9.67</td>\n",
              "    </tr>\n",
              "    <tr>\n",
              "      <th>411</th>\n",
              "      <td>502</td>\n",
              "      <td>0.04527</td>\n",
              "      <td>0.0</td>\n",
              "      <td>11.93</td>\n",
              "      <td>0.0</td>\n",
              "      <td>0.573</td>\n",
              "      <td>6.120</td>\n",
              "      <td>76.7</td>\n",
              "      <td>2.2875</td>\n",
              "      <td>1.0</td>\n",
              "      <td>273.0</td>\n",
              "      <td>21.0</td>\n",
              "      <td>396.90</td>\n",
              "      <td>9.08</td>\n",
              "    </tr>\n",
              "    <tr>\n",
              "      <th>412</th>\n",
              "      <td>503</td>\n",
              "      <td>0.06076</td>\n",
              "      <td>0.0</td>\n",
              "      <td>11.93</td>\n",
              "      <td>0.0</td>\n",
              "      <td>0.573</td>\n",
              "      <td>6.976</td>\n",
              "      <td>91.0</td>\n",
              "      <td>2.1675</td>\n",
              "      <td>1.0</td>\n",
              "      <td>273.0</td>\n",
              "      <td>21.0</td>\n",
              "      <td>396.90</td>\n",
              "      <td>5.64</td>\n",
              "    </tr>\n",
              "    <tr>\n",
              "      <th>413</th>\n",
              "      <td>504</td>\n",
              "      <td>0.10959</td>\n",
              "      <td>0.0</td>\n",
              "      <td>11.93</td>\n",
              "      <td>0.0</td>\n",
              "      <td>0.573</td>\n",
              "      <td>6.794</td>\n",
              "      <td>89.3</td>\n",
              "      <td>2.3889</td>\n",
              "      <td>1.0</td>\n",
              "      <td>273.0</td>\n",
              "      <td>21.0</td>\n",
              "      <td>393.45</td>\n",
              "      <td>6.48</td>\n",
              "    </tr>\n",
              "    <tr>\n",
              "      <th>414</th>\n",
              "      <td>505</td>\n",
              "      <td>0.04741</td>\n",
              "      <td>0.0</td>\n",
              "      <td>11.93</td>\n",
              "      <td>0.0</td>\n",
              "      <td>0.573</td>\n",
              "      <td>6.030</td>\n",
              "      <td>80.8</td>\n",
              "      <td>2.5050</td>\n",
              "      <td>1.0</td>\n",
              "      <td>273.0</td>\n",
              "      <td>21.0</td>\n",
              "      <td>396.90</td>\n",
              "      <td>7.88</td>\n",
              "    </tr>\n",
              "  </tbody>\n",
              "</table>\n",
              "<p>415 rows × 14 columns</p>\n",
              "</div>"
            ],
            "text/plain": [
              "     index     CRIM    ZN  INDUS  CHAS  ...  RAD    TAX  PTRATIO       B  LSTAT\n",
              "0        0  0.00632  18.0   2.31   0.0  ...  1.0  296.0     15.3  396.90   4.98\n",
              "1        1  0.02731   0.0   7.07   0.0  ...  2.0  242.0     17.8  396.90   9.14\n",
              "2        2  0.02729   0.0   7.07   0.0  ...  2.0  242.0     17.8  392.83   4.03\n",
              "3        3  0.03237   0.0   2.18   0.0  ...  3.0  222.0     18.7  394.63   2.94\n",
              "4        4  0.06905   0.0   2.18   0.0  ...  3.0  222.0     18.7  396.90   5.33\n",
              "..     ...      ...   ...    ...   ...  ...  ...    ...      ...     ...    ...\n",
              "410    501  0.06263   0.0  11.93   0.0  ...  1.0  273.0     21.0  391.99   9.67\n",
              "411    502  0.04527   0.0  11.93   0.0  ...  1.0  273.0     21.0  396.90   9.08\n",
              "412    503  0.06076   0.0  11.93   0.0  ...  1.0  273.0     21.0  396.90   5.64\n",
              "413    504  0.10959   0.0  11.93   0.0  ...  1.0  273.0     21.0  393.45   6.48\n",
              "414    505  0.04741   0.0  11.93   0.0  ...  1.0  273.0     21.0  396.90   7.88\n",
              "\n",
              "[415 rows x 14 columns]"
            ]
          },
          "metadata": {
            "tags": []
          }
        },
        {
          "output_type": "execute_result",
          "data": {
            "text/plain": [
              "415"
            ]
          },
          "metadata": {
            "tags": []
          },
          "execution_count": 39
        }
      ]
    },
    {
      "cell_type": "code",
      "metadata": {
        "colab": {
          "base_uri": "https://localhost:8080/"
        },
        "id": "7Gop2qYml6mA",
        "outputId": "03d183cb-b33e-4054-a3ab-54a135c67c1b"
      },
      "source": [
        "X_new = new_df.drop('index', axis = 1)\n",
        "\n",
        "from sklearn.preprocessing import StandardScaler, MinMaxScaler\n",
        "X_scaled = StandardScaler().fit_transform(X_new)\n",
        "X_scaled"
      ],
      "execution_count": null,
      "outputs": [
        {
          "output_type": "execute_result",
          "data": {
            "text/plain": [
              "array([[-0.50009668,  0.42727822, -1.25466328, ..., -1.48379449,\n",
              "         0.43991388, -1.1282211 ],\n",
              "       [-0.49580542, -0.48858069, -0.55367539, ..., -0.312853  ,\n",
              "         0.43991388, -0.48493501],\n",
              "       [-0.49580951, -0.48858069, -0.55367539, ..., -0.312853  ,\n",
              "         0.36091635, -1.27512537],\n",
              "       ...,\n",
              "       [-0.4889668 , -0.48858069,  0.16203913, ...,  1.18595212,\n",
              "         0.43991388, -1.02616129],\n",
              "       [-0.47898384, -0.48858069,  0.16203913, ...,  1.18595212,\n",
              "         0.37295037, -0.89626698],\n",
              "       [-0.49169611, -0.48858069,  0.16203913, ...,  1.18595212,\n",
              "         0.43991388, -0.67977647]])"
            ]
          },
          "metadata": {
            "tags": []
          },
          "execution_count": 40
        }
      ]
    },
    {
      "cell_type": "code",
      "metadata": {
        "colab": {
          "base_uri": "https://localhost:8080/"
        },
        "id": "r_XfhiTXl6mA",
        "outputId": "f43b0000-4f03-4ab9-f7f9-cfae469d2b5c"
      },
      "source": [
        "# Outliers removed & scaling\n",
        "X_train, X_test, y_train, y_test = train_test_split(X_scaled,y_new, test_size=0.3, random_state=42)\n",
        "modelb = LinearRegression(normalize=False)\n",
        "modelb.fit(X_train,y_train)\n",
        "print(\"Score of the train set\",modelb.score(X_train,y_train))\n",
        "print(\"Score of the test set\",modelb.score(X_test,y_test))"
      ],
      "execution_count": null,
      "outputs": [
        {
          "output_type": "stream",
          "text": [
            "Score of the train set 0.7598701100873174\n",
            "Score of the test set 0.6739782514175502\n"
          ],
          "name": "stdout"
        }
      ]
    },
    {
      "cell_type": "code",
      "metadata": {
        "colab": {
          "base_uri": "https://localhost:8080/"
        },
        "id": "HfcXSF9cl6mB",
        "outputId": "60feb03a-d2e4-434e-d09f-92a19f14ed1c"
      },
      "source": [
        "# With outliers & not scaled\n",
        "X_train, X_test, y_train, y_test = train_test_split(Xb,yb, test_size=0.3, random_state=42)\n",
        "modelb = LinearRegression(normalize=False)\n",
        "modelb.fit(X_train,y_train)\n",
        "print(\"Score of the train set\",modelb.score(X_train,y_train))\n",
        "print(\"Score of the test set\",modelb.score(X_test,y_test))"
      ],
      "execution_count": null,
      "outputs": [
        {
          "output_type": "stream",
          "text": [
            "Score of the train set 0.7434997532004697\n",
            "Score of the test set 0.7112260057484974\n"
          ],
          "name": "stdout"
        }
      ]
    },
    {
      "cell_type": "code",
      "metadata": {
        "colab": {
          "base_uri": "https://localhost:8080/"
        },
        "id": "w45zAR6fl6mB",
        "outputId": "6b81fe95-b14a-4ba4-f0f0-40968ef8745a"
      },
      "source": [
        "# With outlier but scaling\n",
        "X_alls = StandardScaler().fit_transform(Xb)\n",
        "X_train, X_test, y_train, y_test = train_test_split(X_alls,yb, test_size=0.3, random_state=42)\n",
        "\n",
        "modelb = LinearRegression(normalize=False)\n",
        "modelb.fit(X_train,y_train)\n",
        "print(\"Score of the train set\",modelb.score(X_train,y_train))\n",
        "print(\"Score of the test set\",modelb.score(X_test,y_test))"
      ],
      "execution_count": null,
      "outputs": [
        {
          "output_type": "stream",
          "text": [
            "Score of the train set 0.7434997532004697\n",
            "Score of the test set 0.7112260057484923\n"
          ],
          "name": "stdout"
        }
      ]
    },
    {
      "cell_type": "markdown",
      "metadata": {
        "id": "3zGz3jDPl6mB"
      },
      "source": [
        "## Resources\n",
        "https://towardsdatascience.com/statistics-supporting-linear-models-bfc24fb9781f  \n",
        "    "
      ]
    }
  ]
}